{
 "cells": [
  {
   "cell_type": "markdown",
   "id": "310470db",
   "metadata": {},
   "source": [
    "# Q1. What is the relationship between classes and modules?"
   ]
  },
  {
   "cell_type": "markdown",
   "id": "2c14be2f",
   "metadata": {},
   "source": [
    "The difference between a class and a module in python is that a class is used to define a blueprint for a given object, whereas a module is used to reuse a given piece of code inside another program"
   ]
  },
  {
   "cell_type": "markdown",
   "id": "b2ddea7c",
   "metadata": {},
   "source": [
    "# Q2. How do you make instances and classes?"
   ]
  },
  {
   "cell_type": "markdown",
   "id": "13ece262",
   "metadata": {},
   "source": [
    "To create instances of a class, you call the class using class name and pass in whatever arguments its __init__ method accepts."
   ]
  },
  {
   "cell_type": "markdown",
   "id": "7af4fc68",
   "metadata": {},
   "source": [
    "# Q3. Where and how should be class attributes created?"
   ]
  },
  {
   "cell_type": "markdown",
   "id": "1226930e",
   "metadata": {},
   "source": [
    "Class attributes are the variables defined directly in the class that are shared by all objects of the class. Instance attributes are attributes or properties attached to an instance of a class. Instance attributes are defined in the constructor. Defined directly inside a class."
   ]
  },
  {
   "cell_type": "markdown",
   "id": "48a36ff8",
   "metadata": {},
   "source": [
    "# Q4. Where and how are instance attributes created?"
   ]
  },
  {
   "cell_type": "markdown",
   "id": "777bbff3",
   "metadata": {},
   "source": [
    "An instance attribute is a Python variable belonging to one, and only one, object. This variable is only accessible in the scope of this object, and it's defined inside the constructor function, __init__(self,..) of the class."
   ]
  },
  {
   "cell_type": "markdown",
   "id": "339fd592",
   "metadata": {},
   "source": [
    "# Q5. What does the term &quot;self&quot; in a Python class mean?"
   ]
  },
  {
   "cell_type": "markdown",
   "id": "01f31955",
   "metadata": {},
   "source": [
    "SELF represents the instance of class. This handy keyword allows you to access variables, attributes, and methods of a defined class in Python. The self parameter doesn't have to be named “self,” as you can call it by any other name."
   ]
  },
  {
   "cell_type": "markdown",
   "id": "585f09df",
   "metadata": {},
   "source": [
    "# Q6. How does a Python class handle operator overloading?"
   ]
  },
  {
   "cell_type": "markdown",
   "id": "51547d06",
   "metadata": {},
   "source": [
    "Python does not support function overloading. Suppose we still want to use the feature of functional overloading. In that case, we can set the default values of parameters in the method as None, which won't give an error if that specific value is not passed as an argument while calling the function."
   ]
  },
  {
   "cell_type": "markdown",
   "id": "aaa4ecda",
   "metadata": {},
   "source": [
    "# Q7. When do you consider allowing operator overloading of your classes?"
   ]
  },
  {
   "cell_type": "markdown",
   "id": "0a11bc74",
   "metadata": {},
   "source": [
    "When one or both operands are of a user-defined class or structure type, operator overloading makes it easier to specify user-defined implementation for such operations."
   ]
  },
  {
   "cell_type": "markdown",
   "id": "d96aa848",
   "metadata": {},
   "source": [
    "# Q8. What is the most popular form of operator overloading?"
   ]
  },
  {
   "cell_type": "markdown",
   "id": "8d40d9ee",
   "metadata": {},
   "source": [
    "The most common use of the addition operator '+' is for concatenating and combining two different strings. As mentioned on top, the plus symbol's practice in dissimilar forms is the largest classic example of the operator-level overloading process."
   ]
  },
  {
   "cell_type": "markdown",
   "id": "cb785cb3",
   "metadata": {},
   "source": [
    "# Q9. What are the two most important concepts to grasp in order to comprehend Python OOP code?"
   ]
  },
  {
   "cell_type": "markdown",
   "id": "37e9e801",
   "metadata": {},
   "source": [
    "Both inheritance and polymorphism are fundamental concepts of object oriented programming"
   ]
  }
 ],
 "metadata": {
  "kernelspec": {
   "display_name": "Python 3 (ipykernel)",
   "language": "python",
   "name": "python3"
  },
  "language_info": {
   "codemirror_mode": {
    "name": "ipython",
    "version": 3
   },
   "file_extension": ".py",
   "mimetype": "text/x-python",
   "name": "python",
   "nbconvert_exporter": "python",
   "pygments_lexer": "ipython3",
   "version": "3.9.12"
  }
 },
 "nbformat": 4,
 "nbformat_minor": 5
}
